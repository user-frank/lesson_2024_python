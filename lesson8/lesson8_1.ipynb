{
 "cells": [
  {
   "cell_type": "code",
   "execution_count": 9,
   "metadata": {},
   "outputs": [],
   "source": [
    "def get_names(num:int=2)->list[str] :\n",
    "    with open(\"names.txt\",encoding=\"utf-8\",) as file:\n",
    "        names_str = file.read()\n",
    "    names= names_str.split(sep=\"\\n\")\n",
    "    names= random.choices(names,k=num)\n",
    "    return names\n"
   ]
  },
  {
   "cell_type": "code",
   "execution_count": 11,
   "metadata": {},
   "outputs": [
    {
     "name": "stdout",
     "output_type": "stream",
     "text": [
      "[{'name': '黃佩玲', 'chinese': 51, 'english': 88, 'math': 98}, {'name': '賴昌韻', 'chinese': 50, 'english': 78, 'math': 82}, {'name': '林柏洋', 'chinese': 85, 'english': 69, 'math': 89}, {'name': '劉依婷', 'chinese': 93, 'english': 86, 'math': 91}, {'name': '胡淑貞', 'chinese': 93, 'english': 71, 'math': 58}, {'name': '王坤安', 'chinese': 62, 'english': 99, 'math': 63}, {'name': '陳怡伶', 'chinese': 57, 'english': 58, 'math': 88}, {'name': '唐翊修', 'chinese': 83, 'english': 55, 'math': 94}, {'name': '張軒宸', 'chinese': 80, 'english': 81, 'math': 58}, {'name': '王展人', 'chinese': 60, 'english': 90, 'math': 52}]\n"
     ]
    }
   ],
   "source": [
    "import random\n",
    "def generate_names(names:list[str]) -> list[dict]:\n",
    "    students:list[dict] =[]\n",
    "    for student in names :\n",
    "        chinese = random.randint(50,100)\n",
    "        english = random.randint(50,100)\n",
    "        math    = random.randint(50,100)\n",
    "        score = {\"name\":student,\"chinese\":chinese,\"english\":english,\"math\":math}\n",
    "        students.append(score)\n",
    "    return students\n",
    "\n",
    "num = int(input(\"請輸入學生的數量(最多十位)\"))\n",
    "nums:list[str] = get_names(num=num)\n",
    "students:list[dict] = generate_names(names=nums)\n",
    "print(students)"
   ]
  },
  {
   "cell_type": "code",
   "execution_count": 12,
   "metadata": {},
   "outputs": [
    {
     "data": {
      "text/plain": [
       "[{'name': '黃佩玲', 'chinese': 51, 'english': 88, 'math': 98},\n",
       " {'name': '賴昌韻', 'chinese': 50, 'english': 78, 'math': 82},\n",
       " {'name': '林柏洋', 'chinese': 85, 'english': 69, 'math': 89},\n",
       " {'name': '劉依婷', 'chinese': 93, 'english': 86, 'math': 91},\n",
       " {'name': '胡淑貞', 'chinese': 93, 'english': 71, 'math': 58},\n",
       " {'name': '王坤安', 'chinese': 62, 'english': 99, 'math': 63},\n",
       " {'name': '陳怡伶', 'chinese': 57, 'english': 58, 'math': 88},\n",
       " {'name': '唐翊修', 'chinese': 83, 'english': 55, 'math': 94},\n",
       " {'name': '張軒宸', 'chinese': 80, 'english': 81, 'math': 58},\n",
       " {'name': '王展人', 'chinese': 60, 'english': 90, 'math': 52}]"
      ]
     },
     "execution_count": 12,
     "metadata": {},
     "output_type": "execute_result"
    }
   ],
   "source": [
    "students"
   ]
  }
 ],
 "metadata": {
  "kernelspec": {
   "display_name": "Python 3",
   "language": "python",
   "name": "python3"
  },
  "language_info": {
   "codemirror_mode": {
    "name": "ipython",
    "version": 3
   },
   "file_extension": ".py",
   "mimetype": "text/x-python",
   "name": "python",
   "nbconvert_exporter": "python",
   "pygments_lexer": "ipython3",
   "version": "3.10.15"
  }
 },
 "nbformat": 4,
 "nbformat_minor": 2
}
