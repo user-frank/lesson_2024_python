{
 "cells": [
  {
   "cell_type": "code",
   "execution_count": null,
   "metadata": {},
   "outputs": [],
   "source": [
    "import random\n",
    "import matplotlib.pyplot as plt\n",
    "\n",
    "#製作figure  \n",
    "figure = plt.figure(figsize=(10,5)) #figsize設定寬跟高(x,y)\n",
    "#在figure上製作一個axes\n",
    "axes = figure.add_subplot(1, 1, 1)\n",
    "days = [num for num in range(1,31)] \n",
    "celsius = [round(random.uniform(28.5,35.2),1) for _ in range(1,31)]\n",
    " \n",
    "axes.plot(days, celsius,'ro--')\n",
    "axes.grid()\n",
    "axes.set_title('july weather')\n",
    "axes.set_xlabel('Days')\n",
    "axes.set_ylabel('Celsius')\n",
    "#print(axes.get_xticks())\n",
    "#print(axes.get_xticklabels())\n",
    "axes.set_xticks(days)\n",
    "plt.show()"
   ]
  },
  {
   "cell_type": "code",
   "execution_count": null,
   "metadata": {},
   "outputs": [],
   "source": []
  }
 ],
 "metadata": {
  "kernelspec": {
   "display_name": "Python 3",
   "language": "python",
   "name": "python3"
  },
  "language_info": {
   "codemirror_mode": {
    "name": "ipython",
    "version": 3
   },
   "file_extension": ".py",
   "mimetype": "text/x-python",
   "name": "python",
   "nbconvert_exporter": "python",
   "pygments_lexer": "ipython3",
   "version": "3.10.15"
  }
 },
 "nbformat": 4,
 "nbformat_minor": 2
}
