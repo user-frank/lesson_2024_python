{
 "cells": [
  {
   "cell_type": "code",
   "execution_count": null,
   "metadata": {},
   "outputs": [],
   "source": [
    "import numpy as np\n",
    "\n",
    "np.array([[1, 2, 3],[4, 5, 6]])"
   ]
  },
  {
   "cell_type": "code",
   "execution_count": 7,
   "metadata": {},
   "outputs": [
    {
     "data": {
      "text/plain": [
       "array([[[67, 70, 79, 55, 51],\n",
       "        [81, 58, 63, 83, 90],\n",
       "        [85, 64, 50, 63, 50],\n",
       "        [98, 54, 88, 72, 83],\n",
       "        [98, 87, 74, 58, 61]],\n",
       "\n",
       "       [[61, 54, 56, 99, 57],\n",
       "        [53, 66, 84, 69, 65],\n",
       "        [71, 81, 86, 62, 61],\n",
       "        [60, 51, 50, 84, 54],\n",
       "        [91, 99, 81, 66, 78]]])"
      ]
     },
     "execution_count": 7,
     "metadata": {},
     "output_type": "execute_result"
    }
   ],
   "source": [
    "a = 2\n",
    "b = 5\n",
    "\n",
    "\n",
    "np.random.randint(50,100,size=(a, b, 5))"
   ]
  }
 ],
 "metadata": {
  "kernelspec": {
   "display_name": "Python 3",
   "language": "python",
   "name": "python3"
  },
  "language_info": {
   "codemirror_mode": {
    "name": "ipython",
    "version": 3
   },
   "file_extension": ".py",
   "mimetype": "text/x-python",
   "name": "python",
   "nbconvert_exporter": "python",
   "pygments_lexer": "ipython3",
   "version": "3.10.15"
  }
 },
 "nbformat": 4,
 "nbformat_minor": 2
}
