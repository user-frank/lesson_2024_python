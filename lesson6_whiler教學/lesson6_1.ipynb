{
 "cells": [
  {
   "cell_type": "code",
   "execution_count": null,
   "metadata": {},
   "outputs": [],
   "source": [
    "import random\n",
    "\n",
    "#減少邏輯思考\n",
    "def playGame()->None:\n",
    "    min = 1\n",
    "    max = 100\n",
    "    count = 0\n",
    "    target = random.randint(min, max)\n",
    "    print(target)\n",
    "    print(\"===========猜數字遊戲===========\\n\")\n",
    "    while(True):\n",
    "        count += 1\n",
    "        try:\n",
    "            keyin = int(input(f\"猜數字範圍{min}~{max}:\"))\n",
    "        except Exception:\n",
    "            print(\"請重新輸入\")\n",
    "            continue\n",
    "        if keyin >= min and keyin <= max:\n",
    "            if(keyin == target):\n",
    "                print(f\"賓果!猜對了, 答案是:{target}\")\n",
    "                print(f\"您總共猜了{count}次\")\n",
    "                print(\"===============\")\n",
    "                break\n",
    "            elif keyin > target:\n",
    "                print(\"再小一點\")\n",
    "                max = keyin - 1            \n",
    "            elif keyin < target:\n",
    "                print(\"再大一點\")\n",
    "                min = keyin + 1\n",
    "            print(f\"您已經猜了{count}次\")\n",
    "            print(\"================\")\n",
    "\n",
    "        else:\n",
    "            print(\"超出範圍,請重新輸入\")\n",
    "\n",
    "while(True):\n",
    "    playGame()\n",
    "    answer = input(\"請問還要繼續嗎?y,n\")\n",
    "    if answer.upper() == 'N':\n",
    "        break\n",
    "\n",
    "print(\"遊戲結束\")\n",
    "46"
   ]
  },
  {
   "cell_type": "code",
   "execution_count": 11,
   "metadata": {},
   "outputs": [
    {
     "name": "stdout",
     "output_type": "stream",
     "text": [
      "您的姓名:frank\n",
      "您的Bmi值為:21.60\n",
      "您的體重:'正常範圍'\n",
      "=================\n",
      "您的姓名:frank\n",
      "您的Bmi值為:21.60\n",
      "您的體重:'正常範圍'\n",
      "=================\n",
      "程式結束\n"
     ]
    }
   ],
   "source": [
    "def bmi_calculation():\n",
    "    while(True):\n",
    "        try:\n",
    "            name = str(input(\"請輸入姓名\"))\n",
    "            height = float(input(\"請輸入你的身高(cm):\"))\n",
    "            if height <=0 :\n",
    "                print(\"錯誤：請勿輸入負值或零，請重新輸入身高\")\n",
    "                continue\n",
    "            \n",
    "            weight = float(input(\"請輸入你的體重(kg):\"))\n",
    "            if weight <=0 :\n",
    "                print(\"錯誤：請勿輸入負值或零，請重新輸入體重\")\n",
    "                continue\n",
    "            \n",
    "            Bmi = weight / ( (height / 100) **2 )\n",
    "            \n",
    "            if Bmi >= 35 :\n",
    "                BMI_category = \"重度肥胖\"\n",
    "            elif Bmi >= 30:\n",
    "                BMI_category = \"中度肥胖\"\n",
    "            elif Bmi >= 27:\n",
    "                BMI_category = \"輕度肥胖\"\n",
    "            elif Bmi >= 24:\n",
    "                BMI_category = \"過重\"  \n",
    "            elif Bmi >= 18.5:\n",
    "                BMI_category = \"正常範圍\"\n",
    "            else:\n",
    "                BMI_category = \"體重過輕\"\n",
    "            print(f\"您的姓名:{name}\\n您的Bmi值為:{Bmi:.2f}\\n您的體重:'{BMI_category}'\")\n",
    "            break    \n",
    "        except ValueError as e:\n",
    "            print(f\"錯誤原因:{e}\")\n",
    "        except Exception as e :\n",
    "            print(f\"錯誤原因:{e}\")\n",
    "\n",
    "while (True):\n",
    "    bmi_calculation()\n",
    "    a = input(\"請問還要繼續嗎?(y/n)\")\n",
    "    print(\"=================\")\n",
    "    if  a.upper() != \"Y\":\n",
    "        break \n",
    "   \n",
    "print(\"程式結束\")\n"
   ]
  },
  {
   "cell_type": "code",
   "execution_count": 1,
   "metadata": {},
   "outputs": [
    {
     "name": "stdout",
     "output_type": "stream",
     "text": [
      "524800\n"
     ]
    }
   ],
   "source": [
    "ans5 = 0\n",
    "for a in  range(1,1025):\n",
    "    ans5 += a\n",
    "print(ans5)"
   ]
  }
 ],
 "metadata": {
  "kernelspec": {
   "display_name": "Python 3",
   "language": "python",
   "name": "python3"
  },
  "language_info": {
   "codemirror_mode": {
    "name": "ipython",
    "version": 3
   },
   "file_extension": ".py",
   "mimetype": "text/x-python",
   "name": "python",
   "nbconvert_exporter": "python",
   "pygments_lexer": "ipython3",
   "version": "3.10.15"
  }
 },
 "nbformat": 4,
 "nbformat_minor": 2
}
