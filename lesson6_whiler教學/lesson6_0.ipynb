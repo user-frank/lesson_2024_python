{
 "cells": [
  {
   "cell_type": "code",
   "execution_count": null,
   "metadata": {},
   "outputs": [],
   "source": [
    "#小明想要存錢買一輛機車,機車每輛30000元，他將每月存的錢輸入，當存款足夠買機車時，就顯示提示訊息告知。\n",
    "deposit = 0  #建立控制迴圈的變數\n",
    "month = 0\n",
    "\n",
    "# while(deposit < 30000):            #變數比較，也可以打True\n",
    "#     month += 1\n",
    "#     money = int(input(f\"請輸入第{month}月份的存款:\"))\n",
    "# deposit += money     #改變變數               \n",
    "# print(f\"恭喜!已經存夠了，存了{month}個月的總存款為:{deposit}元。\")\n",
    "\n",
    "#beark  迴圈中止  contuin  繼續\n",
    "#exp:\n",
    "\n",
    "while(True):\n",
    "    month += 1\n",
    "    money = int(input(f\"請輸入第{month}月份的存款:\"))\n",
    "    deposit += money\n",
    "    if deposit >= 30000 :\n",
    "        break\n",
    "print(f\"恭喜!已經存夠了，存了{month}個月的總存款為:{deposit}元。\")\n",
    "\n"
   ]
  },
  {
   "cell_type": "code",
   "execution_count": null,
   "metadata": {},
   "outputs": [],
   "source": [
    "while (True):\n",
    "    value = input(\"請輸入小寫英文Q\")\n",
    "    if value.upper() == \"Q\" :\n",
    "        break\n",
    "    print(value)\n",
    "print(\"應用程式結束\")"
   ]
  },
  {
   "cell_type": "code",
   "execution_count": null,
   "metadata": {},
   "outputs": [],
   "source": [
    "while(True):\n",
    "    value = input(\"請輸入整數,或輸入[q]離開\")\n",
    "    if value.upper() == \"Q\":\n",
    "        break\n",
    "    try:\n",
    "        value_int = int(value)\n",
    "    except:\n",
    "        print(\"請重新輸入\")\n",
    "        continue\n",
    "    if not (value_int % 2 ) == 0:\n",
    "        print(value_int **2)\n",
    "\n",
    "print(\"應用程式結束\")"
   ]
  },
  {
   "cell_type": "code",
   "execution_count": null,
   "metadata": {},
   "outputs": [],
   "source": [
    "#建立亂數\n",
    "import random\n",
    "random.randint(1,10)\n"
   ]
  },
  {
   "cell_type": "code",
   "execution_count": null,
   "metadata": {},
   "outputs": [],
   "source": [
    "#猜數字遊戲\n",
    "import random\n",
    "\n",
    "min = 1\n",
    "max = 100\n",
    "count = 0\n",
    "target = random.randint(min, max)\n",
    "print(\"===========猜數字遊戲===========\\n\")\n",
    "while(True):\n",
    "    count += 1\n",
    "    try:\n",
    "        keyin = int(input(f\"猜數字範圍{min}~{max}:\"))\n",
    "    except Exception:\n",
    "        print(\"請重新輸入\")\n",
    "        continue\n",
    "    if keyin >= min and keyin <= max:\n",
    "        if(keyin == target):\n",
    "            print(f\"賓果!猜對了, 答案是:{target}\")\n",
    "            print(f\"您總共猜了{count}次\")\n",
    "            print(\"===============\")\n",
    "            break\n",
    "        elif keyin > target:\n",
    "            print(\"再小一點\")\n",
    "            max = keyin - 1            \n",
    "        elif keyin < target:\n",
    "            print(\"再大一點\")\n",
    "            min = keyin + 1\n",
    "        print(f\"您已經猜了{count}次\")\n",
    "        print(\"================\")\n",
    "\n",
    "    else:\n",
    "        print(\"超出範圍,請重新輸入\")\n",
    "\n",
    "print(\"應用程式結束\")       "
   ]
  },
  {
   "cell_type": "code",
   "execution_count": 1,
   "metadata": {},
   "outputs": [
    {
     "name": "stdout",
     "output_type": "stream",
     "text": [
      "a=314.15926\n",
      "a1=1256.63704\n"
     ]
    }
   ],
   "source": [
    "def circle_area(radius:int)->float: #有參數,有傳出值的function\n",
    "    area = 3.1415926 * radius ** 2\n",
    "    return area\n",
    "\n",
    "r = int(input(\"請輸入半徑:\"))\n",
    "a = circle_area(r)#引數值的呼叫\n",
    "a1 = circle_area(radius=r+10) #引數名稱的呼叫\n",
    "print(f\"a={a}\")\n",
    "print(f\"a1={a1}\")"
   ]
  }
 ],
 "metadata": {
  "kernelspec": {
   "display_name": "Python 3",
   "language": "python",
   "name": "python3"
  },
  "language_info": {
   "codemirror_mode": {
    "name": "ipython",
    "version": 3
   },
   "file_extension": ".py",
   "mimetype": "text/x-python",
   "name": "python",
   "nbconvert_exporter": "python",
   "pygments_lexer": "ipython3",
   "version": "3.10.15"
  }
 },
 "nbformat": 4,
 "nbformat_minor": 2
}
