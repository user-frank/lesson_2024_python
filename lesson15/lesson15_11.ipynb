{
 "cells": [
  {
   "cell_type": "code",
   "execution_count": null,
   "metadata": {},
   "outputs": [],
   "source": [
    "import pandas as pd \n",
    "df = pd.read_csv('world.csv')\n",
    "df1 = df[['洲名','國家','日期','總確診數','新增確診數','總人口數','解封指數']]\n",
    "df1"
   ]
  },
  {
   "cell_type": "code",
   "execution_count": null,
   "metadata": {},
   "outputs": [],
   "source": [
    "taiwan = df1[df1['國家'] == '台灣']\n",
    "df\n",
    "\n"
   ]
  },
  {
   "cell_type": "code",
   "execution_count": null,
   "metadata": {},
   "outputs": [],
   "source": [
    "_2020_s1 = (taiwan['日期'] >= '2020-01-16') & (taiwan['日期'] <= '2020-12-31')\n",
    "taiwan[_2020_s1]"
   ]
  },
  {
   "cell_type": "code",
   "execution_count": null,
   "metadata": {},
   "outputs": [],
   "source": [
    "taiwan = df1.query('國家==\"台灣\"')\n",
    "taiwan"
   ]
  },
  {
   "cell_type": "code",
   "execution_count": null,
   "metadata": {},
   "outputs": [],
   "source": [
    "taiwan.query('日期>=\"2020-01-16\" and 日期<=\"2020-12-31\"')"
   ]
  },
  {
   "cell_type": "code",
   "execution_count": null,
   "metadata": {},
   "outputs": [],
   "source": [
    "country = input(\"請輸入國家\")\n",
    "df1.query('國家==@country')"
   ]
  },
  {
   "cell_type": "code",
   "execution_count": null,
   "metadata": {},
   "outputs": [],
   "source": [
    "country = input(\"請輸入國家\")\n",
    "country_df = df1.query('國家==@country')\n",
    "_2021_country = country_df.query('日期>=\"2021-01-01\" and 日期<=\"2021-12-31\"')\n",
    "median = int(_2021_country['新增確診數'].median())\n",
    "_2021_country.query('新增確診數>@median')"
   ]
  },
  {
   "cell_type": "code",
   "execution_count": null,
   "metadata": {},
   "outputs": [],
   "source": [
    "import pandas as pd \n",
    "import matplotlib.pyplot as plt\n",
    "\n",
    "df = pd.read_csv('world.csv')\n",
    "df1 = df[['洲名','國家','日期','總確診數','新增確診數','總人口數','解封指數']]\n",
    "\n",
    "#查詢確診數最高\n",
    "country = input(\"請輸入國家\")\n",
    "df2 = df1.query('國家==@country')\n",
    "max_cases = int(df2['新增確診數'].max())\n",
    "print(df2.query('新增確診數 == @max_cases'))\n",
    "\n",
    "\n",
    "#製作成依據時間變化圖表\n",
    "df2.loc[:, '日期'] = pd.to_datetime(df2['日期'])\n",
    "df2_sorted = df2.sort_values(by='日期')\n",
    "\n",
    "plt.figure(figsize=(10, 6))  \n",
    "plt.plot(df2_sorted['日期'], df2_sorted['新增確診數'],'-')\n",
    "\n",
    "#座標軸標籤\n",
    "plt.title('Total Confirmed Cases Trend')\n",
    "plt.xlabel('Date')\n",
    "plt.ylabel('Total Confirmed Cases')\n",
    "\n",
    "plt.xticks(rotation=45)\n",
    "plt.grid()\n",
    "\n",
    "plt.show()\n",
    "\n",
    "\n",
    "import os\n",
    "# 切換工作目錄到桌面\n",
    "os.chdir(r'C:\\Users\\USER\\Desktop')\n",
    "\n",
    "\n",
    "# 儲存檔案\n",
    "df2.to_excel('output.xlsx', index=False)\n",
    "\n",
    "\n",
    "\n",
    "\n",
    "\n",
    "\n",
    "\n"
   ]
  },
  {
   "cell_type": "code",
   "execution_count": 94,
   "metadata": {},
   "outputs": [
    {
     "name": "stdout",
     "output_type": "stream",
     "text": [
      "vscode\n"
     ]
    }
   ],
   "source": [
    "import os\n",
    "username = os.environ.get('USER') or os.environ.get('USERNAME')\n",
    "print(username)\n"
   ]
  }
 ],
 "metadata": {
  "kernelspec": {
   "display_name": "Python 3",
   "language": "python",
   "name": "python3"
  },
  "language_info": {
   "codemirror_mode": {
    "name": "ipython",
    "version": 3
   },
   "file_extension": ".py",
   "mimetype": "text/x-python",
   "name": "python",
   "nbconvert_exporter": "python",
   "pygments_lexer": "ipython3",
   "version": "3.10.15"
  }
 },
 "nbformat": 4,
 "nbformat_minor": 2
}
