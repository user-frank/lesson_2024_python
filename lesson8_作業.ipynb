{
 "cells": [
  {
   "cell_type": "code",
   "execution_count": null,
   "metadata": {},
   "outputs": [],
   "source": [
    "請輸入人數:5\n",
    "姓名:xxxx\n",
    "身高:xxx公分\n",
    "體重:xxxx公斤\n",
    "bmi:xx\n",
    "狀態:xxxxx\n",
    "=================\n",
    "姓名:xxxx\n",
    "身高:xxx公分\n",
    "體重:xxxx公斤\n",
    "bmi:xx\n",
    "狀態:xxxxx\n",
    "=================\n",
    "姓名:xxxx\n",
    "身高:xxx公分\n",
    "體重:xxxx公斤\n",
    "bmi:xx\n",
    "狀態:xxxxx\n",
    "=================\n",
    "姓名:xxxx\n",
    "身高:xxx公分\n",
    "體重:xxxx公斤\n",
    "bmi:xx\n",
    "狀態:xxxxx\n",
    "=================\n",
    "姓名:xxxx\n",
    "身高:xxx公分\n",
    "體重:xxxx公斤\n",
    "bmi:xx\n",
    "狀態:xxxxx\n",
    "=================\n"
   ]
  },
  {
   "cell_type": "code",
   "execution_count": 40,
   "metadata": {},
   "outputs": [
    {
     "name": "stdout",
     "output_type": "stream",
     "text": [
      "姓名         身高      體重       BMI        狀態     \n",
      "==================================================\n",
      "潘英迪183       53        19        正常範圍      \n",
      "張莉雯161       61        17        體重過輕      \n",
      "林佳慧185       75        40        重度肥胖      \n",
      "陳家維162       79        17        體重過輕      \n",
      "楊韋廷175       49        32        中度肥胖      \n"
     ]
    }
   ],
   "source": [
    "import random\n",
    "\n",
    "def get_names(nums:int=2)->list[str]:\n",
    "    with open(\"names.txt\",encoding=\"utf-8\",) as file:\n",
    "        names_str = file.read()\n",
    "    names= names_str.split(sep=\"\\n\")\n",
    "    names= random.choices(names,k=nums)\n",
    "    return names\n",
    "\n",
    "def generate_bmi(names:list[str])->list[dict]:\n",
    "    personnel:list[dict] =[]\n",
    "    for student in names :\n",
    "        height = random.randint(150,185) #身高\n",
    "        weight = random.randint(45,100) #體重\n",
    "        bmi    = random.randint(17,40) #bmi\n",
    "        if bmi >= 35 :\n",
    "            BMI_category = \"重度肥胖\"\n",
    "        elif bmi >= 30:\n",
    "            BMI_category = \"中度肥胖\"\n",
    "        elif bmi >= 27:\n",
    "            BMI_category = \"輕度肥胖\"\n",
    "        elif bmi >= 24:\n",
    "            BMI_category = \"過重\"  \n",
    "        elif bmi >= 18.5:\n",
    "            BMI_category = \"正常範圍\"\n",
    "        else:\n",
    "            BMI_category = \"體重過輕\"\n",
    "        score = {\"姓名\":student,\"身高\":height,\"體重\":weight,\"bmi\":bmi,\"狀態\":BMI_category}        \n",
    "        personnel.append(score)                \n",
    "    return personnel\n",
    "\n",
    "nums = int(input(\"請輸入學生的數量(最多十位)\"))\n",
    "nums:list[str] = get_names(nums=nums)\n",
    "personnel:list[dict] = generate_bmi(names=nums)\n",
    "\n",
    "print(f\"{'姓名         '}{'身高      '}{'體重       '}{'BMI        '}{'狀態     '}\")\n",
    "print(\"=\"*50)\n",
    "for student in personnel:\n",
    "    print(f\"{student['姓名']}{student['身高']:<10}{student['體重']:<10}{student['bmi']:<10}{student['狀態']:<10}\")\n",
    "     \n",
    "\n",
    "\n"
   ]
  }
 ],
 "metadata": {
  "kernelspec": {
   "display_name": "Python 3",
   "language": "python",
   "name": "python3"
  },
  "language_info": {
   "codemirror_mode": {
    "name": "ipython",
    "version": 3
   },
   "file_extension": ".py",
   "mimetype": "text/x-python",
   "name": "python",
   "nbconvert_exporter": "python",
   "pygments_lexer": "ipython3",
   "version": "3.10.15"
  }
 },
 "nbformat": 4,
 "nbformat_minor": 2
}
