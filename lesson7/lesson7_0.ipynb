{
 "cells": [
  {
   "cell_type": "code",
   "execution_count": null,
   "metadata": {},
   "outputs": [
    {
     "name": "stdout",
     "output_type": "stream",
     "text": [
      "()\n",
      "=============\n",
      "('a', '1', 4, 6, 9.8)\n",
      "=================\n"
     ]
    }
   ],
   "source": [
    "# *args=沒有限定數量的引數值呼叫\n",
    "def print_args(*args)->None:\n",
    "    print(args)\n",
    "\n",
    "print_args()\n",
    "print(\"=============\")\n",
    "print_args('a', '1', 4, 6, 9.8)\n",
    "print(\"=================\")"
   ]
  },
  {
   "cell_type": "code",
   "execution_count": 10,
   "metadata": {},
   "outputs": [
    {
     "data": {
      "text/plain": [
       "((1, 2, 3, 4), [1, 2, 3, 4], (1, 2, 3, 4), {1, 2, 3, 4}, '(1, 2, 3, 4)')"
      ]
     },
     "execution_count": 10,
     "metadata": {},
     "output_type": "execute_result"
    }
   ],
   "source": [
    "a = 1,2,3,4\n",
    "b = list(a)\n",
    "c = tuple(a)\n",
    "d = set(a)\n",
    "e = str(a)\n",
    "a,b,c,d,e"
   ]
  },
  {
   "cell_type": "code",
   "execution_count": 11,
   "metadata": {},
   "outputs": [
    {
     "name": "stdout",
     "output_type": "stream",
     "text": [
      "tw\n",
      "Taiwan\n",
      "=============\n",
      "jp\n",
      "Japan\n",
      "=============\n",
      "hk\n",
      "Hong kong\n",
      "=============\n"
     ]
    }
   ],
   "source": [
    "#dict->dictionary\n",
    "code:dict = {\n",
    "    'tw':'Taiwan',\n",
    "    'jp':'Japan',\n",
    "    'hk':'Hong kong'\n",
    "}\n",
    "#subscript->[key]\n",
    "code['tw'], code['jp'], code['hk']\n",
    "('Taiwan', 'Japan', 'Hong kong')\n",
    "for key in code:\n",
    "    print(key)\n",
    "    print(code[key])\n",
    "    print(\"=============\")"
   ]
  },
  {
   "cell_type": "code",
   "execution_count": 12,
   "metadata": {},
   "outputs": [
    {
     "name": "stdout",
     "output_type": "stream",
     "text": [
      "tw\n",
      "Taiwan\n",
      "==============\n",
      "jp\n",
      "Japan\n",
      "==============\n",
      "hk\n",
      "Hong kong\n",
      "==============\n"
     ]
    }
   ],
   "source": [
    "for key,value in code.items():\n",
    "    print(key)\n",
    "    print(value)\n",
    "    print(\"==============\")"
   ]
  }
 ],
 "metadata": {
  "kernelspec": {
   "display_name": "Python 3",
   "language": "python",
   "name": "python3"
  },
  "language_info": {
   "codemirror_mode": {
    "name": "ipython",
    "version": 3
   },
   "file_extension": ".py",
   "mimetype": "text/x-python",
   "name": "python",
   "nbconvert_exporter": "python",
   "pygments_lexer": "ipython3",
   "version": "3.10.15"
  }
 },
 "nbformat": 4,
 "nbformat_minor": 2
}
