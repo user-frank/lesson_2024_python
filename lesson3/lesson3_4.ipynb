{
 "cells": [
  {
   "cell_type": "markdown",
   "metadata": {},
   "source": [
    "#### if(如果),elif(假如如果),else(否則) 的解說"
   ]
  },
  {
   "cell_type": "code",
   "execution_count": 2,
   "metadata": {},
   "outputs": [
    {
     "name": "stdout",
     "output_type": "stream",
     "text": [
      "456\n"
     ]
    }
   ],
   "source": [
    "if 5!=5:                #如果 5 不等於 5 時\n",
    "    print(\"123\")        #輸出 123 \n",
    "else:                   #否則\n",
    "    print(\"456\")        #輸出456\n",
    "\n",
    "\n",
    "# 只要有 : 底下一定有程式區塊"
   ]
  },
  {
   "cell_type": "code",
   "execution_count": 21,
   "metadata": {},
   "outputs": [
    {
     "name": "stdout",
     "output_type": "stream",
     "text": [
      "公斤轉換為磅\n",
      "2.0公斤 = 4.4085磅\n",
      "\n",
      "磅轉換為公斤\n",
      "4.4085磅 = 2.0000公斤\n"
     ]
    }
   ],
   "source": [
    "# 1公斤=2.20426磅\n",
    "# kilograms,pounds\n",
    "\n",
    "print(\"公斤轉換為磅\")\n",
    "kilograms = float(input(\"請輸入公斤\"))\n",
    "pounds = kilograms * 2.20426\n",
    "print(f\"{kilograms}公斤 = {pounds:.4f}磅\")\n",
    "print(\"\")\n",
    "print(\"磅轉換為公斤\")\n",
    "pounds = float(input(\"請輸入磅\"))\n",
    "kilograms = pounds / 2.20426\n",
    "print(f\"{pounds}磅 = {kilograms:.4f}公斤\")"
   ]
  }
 ],
 "metadata": {
  "kernelspec": {
   "display_name": "Python 3",
   "language": "python",
   "name": "python3"
  },
  "language_info": {
   "codemirror_mode": {
    "name": "ipython",
    "version": 3
   },
   "file_extension": ".py",
   "mimetype": "text/x-python",
   "name": "python",
   "nbconvert_exporter": "python",
   "pygments_lexer": "ipython3",
   "version": "3.10.15"
  }
 },
 "nbformat": 4,
 "nbformat_minor": 2
}
