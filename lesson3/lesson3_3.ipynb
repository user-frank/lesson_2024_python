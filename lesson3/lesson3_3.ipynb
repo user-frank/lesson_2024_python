{
 "cells": [
  {
   "cell_type": "markdown",
   "metadata": {},
   "source": [
    "### 有input的數學運算"
   ]
  },
  {
   "cell_type": "code",
   "execution_count": null,
   "metadata": {},
   "outputs": [],
   "source": [
    "#求梯形面積\n",
    "top=int(input(\"請輸入上底:\"))  \n",
    "bottom=int(input(\"請輸入上底:\")) \n",
    "height=int(input(\"請輸入高:\"))   \n",
    "\n",
    "area = (top + bottom) * height / 2\n",
    "print(f\"上底:{top},下底:{bottom},高:{height}\\n面積為:{area}\")"
   ]
  },
  {
   "cell_type": "code",
   "execution_count": 22,
   "metadata": {},
   "outputs": [
    {
     "name": "stdout",
     "output_type": "stream",
     "text": [
      "半徑:5.8,面積=105.68\n"
     ]
    }
   ],
   "source": [
    "# 全圓面積\n",
    "\n",
    "radius = float(input(\"請輸入半徑\")) \n",
    "pi = 3.1415962\n",
    "print(f\"半徑:{radius},面積={(pi * radius ** 2):.2f}\")\n",
    "\n"
   ]
  },
  {
   "cell_type": "code",
   "execution_count": 26,
   "metadata": {},
   "outputs": [
    {
     "name": "stdout",
     "output_type": "stream",
     "text": [
      "30.00\n"
     ]
    }
   ],
   "source": [
    "import math\n",
    "side = float(input(\"請輸入對邊:\"))\n",
    "another_side = float(input(\"請輸入斜邊:\"))  \n",
    "radian = math.asin(side / another_side)\n",
    "degree = math.degrees(radian)\n",
    "print((f\"{degree:.2f}\"))\n"
   ]
  }
 ],
 "metadata": {
  "kernelspec": {
   "display_name": "Python 3",
   "language": "python",
   "name": "python3"
  },
  "language_info": {
   "codemirror_mode": {
    "name": "ipython",
    "version": 3
   },
   "file_extension": ".py",
   "mimetype": "text/x-python",
   "name": "python",
   "nbconvert_exporter": "python",
   "pygments_lexer": "ipython3",
   "version": "3.10.15"
  }
 },
 "nbformat": 4,
 "nbformat_minor": 2
}
