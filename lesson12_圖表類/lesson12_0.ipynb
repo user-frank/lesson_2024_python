{
 "cells": [
  {
   "cell_type": "code",
   "execution_count": null,
   "metadata": {},
   "outputs": [],
   "source": [
    "#單行字串\n",
    "\"請輸入手機號碼xxxx-xxx-xxx:\"\n",
    "#多行文字'\n",
    "'''Regular expressions are essential for anyone working with text data.\n",
    "They enable efficient searching and manipulation of strings, making them invaluable tools in programming.\n",
    "Encourage your students to practice by creating their own regex patterns and applying them to different strings.'''\n",
    "\n",
    "#字串是str實體\n",
    "letters = \"請輸入手機號碼xxxx-xxx-xxx:\"\n",
    "type(letters)\n",
    "\n",
    "#實體方法\n",
    "\"abc\".upper()\n",
    "\n",
    "#字串和list->sequence資料\n",
    "#subscript,實體名稱[index]\n",
    "letters = 'abcdefghijklmnopqrstuvwxyz'\n",
    "print(letters[0])\n",
    "print(letters[-1])\n",
    "\n",
    "#subscript,實體名稱[index:index]->slice\n",
    "letters = 'abcdefghijklmnopqrstuvwxyz'\n",
    "print(letters[0:5])\n",
    "print(letters[:5]) #前5個\n",
    "print(letters[-5:]) #後5個"
   ]
  },
  {
   "cell_type": "code",
   "execution_count": 7,
   "metadata": {},
   "outputs": [
    {
     "data": {
      "text/plain": [
       "'您好:robert'"
      ]
     },
     "execution_count": 7,
     "metadata": {},
     "output_type": "execute_result"
    }
   ],
   "source": [
    "name = 'robert'\n",
    "f'您好:{name}'"
   ]
  },
  {
   "cell_type": "code",
   "execution_count": null,
   "metadata": {},
   "outputs": [
    {
     "name": "stdout",
     "output_type": "stream",
     "text": [
      "132\\n132\\n\n"
     ]
    }
   ],
   "source": [
    "#raw字串\n",
    "raw_words = r'132\\n132\\n'\n",
    "print(raw_words)\n",
    "\n",
    "#前面多一個r  表示\\是我要打出來的資料"
   ]
  }
 ],
 "metadata": {
  "kernelspec": {
   "display_name": "Python 3",
   "language": "python",
   "name": "python3"
  },
  "language_info": {
   "codemirror_mode": {
    "name": "ipython",
    "version": 3
   },
   "file_extension": ".py",
   "mimetype": "text/x-python",
   "name": "python",
   "nbconvert_exporter": "python",
   "pygments_lexer": "ipython3",
   "version": "3.10.15"
  }
 },
 "nbformat": 4,
 "nbformat_minor": 2
}
