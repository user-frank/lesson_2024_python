{
 "cells": [
  {
   "cell_type": "code",
   "execution_count": 1,
   "metadata": {},
   "outputs": [
    {
     "name": "stdout",
     "output_type": "stream",
     "text": [
      "下載成功\n"
     ]
    }
   ],
   "source": [
    "import requests\n",
    "from requests import Response\n",
    "\n",
    "url = 'https://data.moenv.gov.tw/api/v2/aqx_p_488?api_key=e8dd42e6-9b8b-43f8-991e-b3dee723a52d&limit=1000&sort=datacreationdate desc&format=CSV'\n",
    "r:Response = requests.get(url)\n",
    "if r.ok:\n",
    "    print(\"下載成功\")\n"
   ]
  },
  {
   "cell_type": "code",
   "execution_count": null,
   "metadata": {},
   "outputs": [],
   "source": [
    "from io import StringIO\n",
    "import csv\n",
    "\n",
    "data:str = r.text\n",
    "file = StringIO(data)\n",
    "dictReader = csv.DictReader(file,['sitename','county','aqi','status','pm2.5','datacreationdate','longitude','latitude'],restkey='不要')\n",
    "next(dictReader)\n",
    "datas:list[dict] = list(dictReader)\n",
    "for site in datas:\n",
    "    del site['不要']\n",
    "    print(site)"
   ]
  },
  {
   "cell_type": "code",
   "execution_count": 4,
   "metadata": {},
   "outputs": [],
   "source": [
    "with open('aqi.csv','w',encoding='utf-8',newline=''):\n",
    "    text = csv.DictWriter(file,['sitename','county','aqi','status','pm2.5','datacreationdate','longitude','latitude'])\n",
    "    text.writeheader()\n",
    "    text.writerows(datas)\n"
   ]
  }
 ],
 "metadata": {
  "kernelspec": {
   "display_name": "Python 3",
   "language": "python",
   "name": "python3"
  },
  "language_info": {
   "codemirror_mode": {
    "name": "ipython",
    "version": 3
   },
   "file_extension": ".py",
   "mimetype": "text/x-python",
   "name": "python",
   "nbconvert_exporter": "python",
   "pygments_lexer": "ipython3",
   "version": "3.10.15"
  }
 },
 "nbformat": 4,
 "nbformat_minor": 2
}
