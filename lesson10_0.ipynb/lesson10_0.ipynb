{
 "cells": [
  {
   "cell_type": "code",
   "execution_count": null,
   "metadata": {},
   "outputs": [],
   "source": [
    "import csv\n",
    "with open('個股日成交資訊.csv',newline=\"\") as file :\n",
    "    file_mode = csv.DictReader(file)    \n",
    "    for row in file_mode:\n",
    "        print(row)\n"
   ]
  },
  {
   "cell_type": "code",
   "execution_count": null,
   "metadata": {},
   "outputs": [],
   "source": [
    "import csv\n",
    "with open('個股日成交資訊.csv',newline=\"\") as file :\n",
    "    file_mode = csv.DictReader(file,['證券代號',\"成交股數\"],restkey= '不要')   \n",
    "    next(file_mode) \n",
    "    file_list:list[dict] = list(file_mode)\n",
    "\n",
    "\n",
    "for row in file_list:\n",
    "    del row[\"不要\"]\n",
    "    print(row)\n",
    "\n",
    "    "
   ]
  },
  {
   "cell_type": "code",
   "execution_count": 36,
   "metadata": {},
   "outputs": [],
   "source": [
    "#存成csv檔\n",
    "import csv\n",
    "with open('new.csv',mode='w',encoding='utf-8',newline=\"\") as file:\n",
    "    text = csv.DictWriter(file,['證券代號',\"成交股數\"])\n",
    "    text.writeheader()\n",
    "    text.writerows(file_list)"
   ]
  }
 ],
 "metadata": {
  "kernelspec": {
   "display_name": "Python 3",
   "language": "python",
   "name": "python3"
  },
  "language_info": {
   "codemirror_mode": {
    "name": "ipython",
    "version": 3
   },
   "file_extension": ".py",
   "mimetype": "text/x-python",
   "name": "python",
   "nbconvert_exporter": "python",
   "pygments_lexer": "ipython3",
   "version": "3.10.15"
  }
 },
 "nbformat": 4,
 "nbformat_minor": 2
}
