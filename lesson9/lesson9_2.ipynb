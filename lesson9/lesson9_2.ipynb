{
 "cells": [
  {
   "cell_type": "code",
   "execution_count": 28,
   "metadata": {},
   "outputs": [
    {
     "name": "stdout",
     "output_type": "stream",
     "text": [
      "我的名子是10\n",
      "我的年齡是1\n"
     ]
    }
   ],
   "source": [
    "class Person(object):\n",
    "    def __init__  (self,name:str,age:int):\n",
    "        self.name = name\n",
    "        self.age = age\n",
    "    \n",
    "    def echo(self):\n",
    "        print(f\"我的名子是{self.name}\")\n",
    "        print(f\"我的年齡是{self.age}\")\n",
    "    \n",
    "        \n",
    "p1 = Person(\"10\",1)\n",
    "p1.echo()\n"
   ]
  }
 ],
 "metadata": {
  "kernelspec": {
   "display_name": "Python 3",
   "language": "python",
   "name": "python3"
  },
  "language_info": {
   "codemirror_mode": {
    "name": "ipython",
    "version": 3
   },
   "file_extension": ".py",
   "mimetype": "text/x-python",
   "name": "python",
   "nbconvert_exporter": "python",
   "pygments_lexer": "ipython3",
   "version": "3.10.15"
  }
 },
 "nbformat": 4,
 "nbformat_minor": 2
}
