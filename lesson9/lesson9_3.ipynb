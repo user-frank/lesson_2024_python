{
 "cells": [
  {
   "cell_type": "code",
   "execution_count": 20,
   "metadata": {},
   "outputs": [],
   "source": [
    "class Person(object):\n",
    "    def __init__  (self,name:str,age:int):\n",
    "        self.name = name\n",
    "        self.age = age\n",
    "    \n",
    "    def echo(self):\n",
    "        print(f\"我的名子是{self.name}\")\n",
    "        print(f\"我的年齡是{self.age}\")\n",
    "    \n",
    "        \n",
    "class Student(Person):\n",
    "    def __init__(self,name:str,age:int,score:int):\n",
    "        super().__init__(name=name,age=age)\n",
    "        self.score = score\n",
    "    \n",
    "    def echo(self):\n",
    "        super().echo()\n",
    "        print(f\"我的分數是{self.score}\")"
   ]
  },
  {
   "cell_type": "code",
   "execution_count": 21,
   "metadata": {},
   "outputs": [
    {
     "name": "stdout",
     "output_type": "stream",
     "text": [
      "我的名子是frank\n",
      "我的年齡是30\n",
      "我的分數是300\n"
     ]
    }
   ],
   "source": [
    "s1:Student = Student (\"frank\", 30, 300)\n",
    "s1.echo()"
   ]
  },
  {
   "cell_type": "code",
   "execution_count": 22,
   "metadata": {},
   "outputs": [
    {
     "name": "stdout",
     "output_type": "stream",
     "text": [
      "我的名子是frank\n",
      "我的年齡是30\n",
      "我的分數是300\n",
      "================\n"
     ]
    }
   ],
   "source": [
    "students:list[Student] = [s1]\n",
    "for student in students:\n",
    "    student.echo()\n",
    "    print(\"================\")"
   ]
  }
 ],
 "metadata": {
  "kernelspec": {
   "display_name": "Python 3",
   "language": "python",
   "name": "python3"
  },
  "language_info": {
   "codemirror_mode": {
    "name": "ipython",
    "version": 3
   },
   "file_extension": ".py",
   "mimetype": "text/x-python",
   "name": "python",
   "nbconvert_exporter": "python",
   "pygments_lexer": "ipython3",
   "version": "3.10.15"
  }
 },
 "nbformat": 4,
 "nbformat_minor": 2
}
