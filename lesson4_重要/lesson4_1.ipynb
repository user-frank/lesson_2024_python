{
 "cells": [
  {
   "cell_type": "markdown",
   "metadata": {},
   "source": [
    "#### 判斷if\n",
    "### eval 教學，自動轉換input為整數或是浮點數"
   ]
  },
  {
   "cell_type": "code",
   "execution_count": 12,
   "metadata": {},
   "outputs": [
    {
     "name": "stdout",
     "output_type": "stream",
     "text": [
      "學生的分數:10\n"
     ]
    }
   ],
   "source": [
    "#學生總分最高為300\n",
    "#如果分數超過300,就以300分為準\n",
    "#有些學生可以加分5%\n",
    "scores = eval(input('請輸入學生分數(最高300分):'))\n",
    "if(scores > 300):\n",
    "    scores = 300\n",
    "is_add = input(\"學生是否符合加分條件?(y,n)\")\n",
    "if is_add == 'y':\n",
    "    scores *= 1.05\n",
    "\n",
    "print(f\"學生的分數:{scores:.0f}\") "
   ]
  },
  {
   "cell_type": "code",
   "execution_count": null,
   "metadata": {},
   "outputs": [],
   "source": [
    "#學生總分最高為300\n",
    "#如果分數超過300,就以300分為準\n",
    "#有些學生可以加分5%\n",
    "scores = eval(input('請輸入學生分數(最高300分):'))\n",
    "if(scores > 300):\n",
    "    scores = 300\n",
    "is_add = input(\"學生是否符合加分條件?(y,n)\")\n",
    "if is_add == 'y': #巢狀判斷\n",
    "    scores *= 1.05\n",
    "    if scores > 300:\n",
    "        scores = 300\n",
    "print(f\"學生的分數:{scores:.0f}\")"
   ]
  },
  {
   "cell_type": "markdown",
   "metadata": {},
   "source": [
    "###python raise 錯誤\n",
    "###自已rasse錯誤\n",
    "###系統錯誤"
   ]
  },
  {
   "cell_type": "code",
   "execution_count": 1,
   "metadata": {},
   "outputs": [
    {
     "name": "stdout",
     "output_type": "stream",
     "text": [
      "發生錯誤\n"
     ]
    }
   ],
   "source": [
    "#處理錯誤try...except...else..finally\n",
    "#優雅的失敗\n",
    "try:\n",
    "    raise Exception('無法處理')\n",
    "except:\n",
    "    print(\"發生錯誤\")"
   ]
  },
  {
   "cell_type": "code",
   "execution_count": null,
   "metadata": {},
   "outputs": [],
   "source": [
    "#添加else使用\n",
    "#else -> 沒有發生錯誤,執行的程式區塊\n",
    "\n",
    "try:\n",
    "    #raise Exception('無法處理')\n",
    "    pass\n",
    "except Exception as e:\n",
    "    print(\"發生錯誤\")\n",
    "    print(f\"錯誤是:{e}\")\n",
    "else:\n",
    "    print('沒有錯誤')"
   ]
  },
  {
   "cell_type": "code",
   "execution_count": 3,
   "metadata": {},
   "outputs": [
    {
     "name": "stdout",
     "output_type": "stream",
     "text": [
      "50\n"
     ]
    }
   ],
   "source": [
    "#增加理解錯誤資訊\n",
    "try:\n",
    "    money = eval(input(\"請輸入金額:\"))\n",
    "    print(money)\n",
    "except Exception as e:\n",
    "    print(f'目前發生錯誤:{e}')"
   ]
  },
  {
   "cell_type": "code",
   "execution_count": null,
   "metadata": {},
   "outputs": [],
   "source": [
    "#第1種解決方法\n",
    "try:\n",
    "    scores = eval(input('請輸入學生分數(最高300分):'))\n",
    "except:\n",
    "    print(\"發生錯誤\")\n",
    "else:\n",
    "    if(scores > 300):\n",
    "        scores = 300\n",
    "    is_add = input(\"學生是否符合加分條件?(y,n)\")\n",
    "    if is_add == 'y': #巢狀判斷\n",
    "        scores *= 1.05\n",
    "        if scores > 300:\n",
    "            scores = 300\n",
    "    print(f\"學生的分數:{scores:.0f}\")"
   ]
  },
  {
   "cell_type": "code",
   "execution_count": null,
   "metadata": {},
   "outputs": [],
   "source": [
    "#第2種解決方法\n",
    "try:\n",
    "    scores = eval(input('請輸入學生分數(最高300分):'))\n",
    "    if(scores > 300):\n",
    "        scores = 300\n",
    "    is_add = input(\"學生是否符合加分條件?(y,n)\")\n",
    "    if is_add == 'y': #巢狀判斷\n",
    "        scores *= 1.05\n",
    "        if scores > 300:\n",
    "            scores = 300\n",
    "    print(f\"學生的分數:{scores:.0f}\")\n",
    "except SyntaxError:\n",
    "    print(\"輸入格式錯誤\")\n",
    "except Exception:\n",
    "    print(\"不知明的錯誤\")\n",
    "\n",
    "\n",
    "print(\"程式結束\")    "
   ]
  },
  {
   "cell_type": "code",
   "execution_count": null,
   "metadata": {},
   "outputs": [],
   "source": [
    "scores = int(input(\"請輸入學生分數0~100\"))\n",
    "if scores >= 60:\n",
    "    print(\"及格\")\n",
    "    if scores >= 90:\n",
    "        print(\"優\")\n",
    "    else:\n",
    "        print(\"一般\")\n",
    "else:\n",
    "    print(\"不及格\")\n",
    "    if scores >= 50:\n",
    "        print(\"丙\")\n",
    "    else:\n",
    "        print(\"丁\")"
   ]
  },
  {
   "cell_type": "code",
   "execution_count": null,
   "metadata": {},
   "outputs": [],
   "source": [
    "scores = int(input(\"請輸入學生分數0~100\"))\n",
    "if scores >= 90:\n",
    "    print('優')\n",
    "else:\n",
    "    if scores >= 80:\n",
    "        print('甲')\n",
    "    else:\n",
    "        if scores >= 70:\n",
    "            print('乙')\n",
    "        else:\n",
    "            if scores >= 60:\n",
    "                print('丙')\n",
    "            else:\n",
    "                print('丁')"
   ]
  },
  {
   "cell_type": "code",
   "execution_count": 5,
   "metadata": {},
   "outputs": [
    {
     "name": "stdout",
     "output_type": "stream",
     "text": [
      "丁\n"
     ]
    }
   ],
   "source": [
    "scores = int(input(\"請輸入學生分數0~100\"))\n",
    "if scores >= 90:\n",
    "    print('優')\n",
    "elif scores >= 80:\n",
    "     print('甲')\n",
    "elif scores >= 70:\n",
    "    print('乙')\n",
    "elif scores >= 60:\n",
    "    print('丙')\n",
    "else:\n",
    "    print('丁')"
   ]
  }
 ],
 "metadata": {
  "kernelspec": {
   "display_name": "Python 3",
   "language": "python",
   "name": "python3"
  },
  "language_info": {
   "codemirror_mode": {
    "name": "ipython",
    "version": 3
   },
   "file_extension": ".py",
   "mimetype": "text/x-python",
   "name": "python",
   "nbconvert_exporter": "python",
   "pygments_lexer": "ipython3",
   "version": "3.10.15"
  }
 },
 "nbformat": 4,
 "nbformat_minor": 2
}
