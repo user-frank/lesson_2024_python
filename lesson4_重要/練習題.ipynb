{
 "cells": [
  {
   "cell_type": "markdown",
   "metadata": {},
   "source": [
    "#### BMI練習題"
   ]
  },
  {
   "cell_type": "code",
   "execution_count": null,
   "metadata": {},
   "outputs": [],
   "source": [
    "# BMI值計算公式:    BMI = 體重(公斤) / 身高2(公尺2)\n",
    "# 例如：一個52公斤的人，身高是155公分，則BMI為 :\n",
    "# 52(公斤)/1.552 ( 公尺2 )= 21.6\n",
    "# 體重正常範圍為  BMI=18.5～24"
   ]
  },
  {
   "cell_type": "code",
   "execution_count": 1,
   "metadata": {},
   "outputs": [
    {
     "name": "stdout",
     "output_type": "stream",
     "text": [
      "錯誤原因:could not convert string to float: '123A'\n",
      "程式結束\n"
     ]
    }
   ],
   "source": [
    "try:\n",
    "    height = float(input(\"請輸入你的身高(cm):\"))\n",
    "    if height <=0 :\n",
    "        raise Exception(\"請勿輸入負值\")\n",
    "    \n",
    "    weight = float(input(\"請輸入你的體重(kg):\"))\n",
    "    if weight <=0 :\n",
    "        raise Exception(\"請勿輸入負值\")\n",
    "    \n",
    "    Bmi = weight / ( (height / 100) **2 )\n",
    "    \n",
    "    if Bmi >= 35 :\n",
    "        print(f\"您的Bmi值為:{Bmi:.2f}\\n您的體重:'重度肥胖'\")\n",
    "    elif Bmi >= 30:\n",
    "        print(f\"您的Bmi值為:{Bmi:.2f}\\n您的體重:'中度肥胖'\")\n",
    "    elif Bmi >= 27:\n",
    "        print(f\"您的Bmi值為:{Bmi:.2f}\\n您的體重:'輕度肥胖'\")\n",
    "    elif Bmi >= 24:\n",
    "        print(f\"您的Bmi值為:{Bmi:.2f}\\n您的體重:'過重'\")  \n",
    "    elif Bmi >= 18.5:\n",
    "        print(f\"您的Bmi值為:{Bmi:.2f}\\n您的體重:'正常範圍'\")\n",
    "    else:\n",
    "        print(f\"您的Bmi值為:{Bmi:.2f}\\n您的體重:'體重過輕'\")\n",
    "\n",
    "except Exception as e:\n",
    "    print(f\"錯誤原因:{e}\")\n",
    "\n",
    "print(\"程式結束\")\n"
   ]
  }
 ],
 "metadata": {
  "kernelspec": {
   "display_name": "Python 3",
   "language": "python",
   "name": "python3"
  },
  "language_info": {
   "codemirror_mode": {
    "name": "ipython",
    "version": 3
   },
   "file_extension": ".py",
   "mimetype": "text/x-python",
   "name": "python",
   "nbconvert_exporter": "python",
   "pygments_lexer": "ipython3",
   "version": "3.10.15"
  }
 },
 "nbformat": 4,
 "nbformat_minor": 2
}
