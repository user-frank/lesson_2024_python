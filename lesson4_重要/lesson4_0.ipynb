{
 "cells": [
  {
   "cell_type": "markdown",
   "metadata": {},
   "source": [
    "### 第一個作業 公斤與磅的轉換"
   ]
  },
  {
   "cell_type": "code",
   "execution_count": 2,
   "metadata": {},
   "outputs": [
    {
     "name": "stdout",
     "output_type": "stream",
     "text": [
      "公斤轉換為磅\n",
      "5.0公斤 = 11.0213磅\n",
      "\n",
      "磅轉換為公斤\n",
      "4.0磅 = 1.8147公斤\n"
     ]
    }
   ],
   "source": [
    "# 1公斤=2.20426磅\n",
    "# kilograms,pounds\n",
    "\n",
    "KilogramsToPounds = 2.20426\n",
    "print(\"公斤轉換為磅\")\n",
    "kilograms = float(input(\"請輸入公斤\"))\n",
    "pounds = kilograms * KilogramsToPounds\n",
    "print(f\"{kilograms}公斤 = {pounds:.4f}磅\")\n",
    "print(\"\")\n",
    "print(\"磅轉換為公斤\")\n",
    "pounds = float(input(\"請輸入磅\"))\n",
    "kilograms = pounds / KilogramsToPounds\n",
    "print(f\"{pounds}磅 = {kilograms:.4f}公斤\")"
   ]
  }
 ],
 "metadata": {
  "kernelspec": {
   "display_name": "Python 3",
   "language": "python",
   "name": "python3"
  },
  "language_info": {
   "codemirror_mode": {
    "name": "ipython",
    "version": 3
   },
   "file_extension": ".py",
   "mimetype": "text/x-python",
   "name": "python",
   "nbconvert_exporter": "python",
   "pygments_lexer": "ipython3",
   "version": "3.10.15"
  }
 },
 "nbformat": 4,
 "nbformat_minor": 2
}
